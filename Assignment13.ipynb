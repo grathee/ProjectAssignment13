{
 "metadata": {
  "name": "",
  "signature": "sha256:8ee75533b45dfadf636ff893aac86ec757547654df16bc4aaba038366cdff22f"
 },
 "nbformat": 3,
 "nbformat_minor": 0,
 "worksheets": [
  {
   "cells": [
    {
     "cell_type": "heading",
     "level": 1,
     "metadata": {},
     "source": [
      "Geetika Rathee & Eline van Elburg"
     ]
    },
    {
     "cell_type": "heading",
     "level": 2,
     "metadata": {},
     "source": [
      "20th of January, 2016"
     ]
    },
    {
     "cell_type": "heading",
     "level": 2,
     "metadata": {},
     "source": [
      "Assignment 13"
     ]
    },
    {
     "cell_type": "markdown",
     "metadata": {},
     "source": [
      "This code calculates the NDWI of a certain landsat image. Define first the proper input (containing the data) and output folder. Also set the right filenames of band 4 and 5."
     ]
    },
    {
     "cell_type": "code",
     "collapsed": false,
     "input": [
      "# define input folder and output folder\n",
      "inFolder = '/home/user/Projects/AssignmentLesson13/data/' \n",
      "outFolder = '/home/user/Projects/AssignmentLesson13/output/'\n",
      "\n",
      "filename_band4 = inFolder + 'LC81980242014260LGN00_sr_band4.tif'\n",
      "filename_band5 = inFolder + 'LC81980242014260LGN00_sr_band5.tif'"
     ],
     "language": "python",
     "metadata": {},
     "outputs": [],
     "prompt_number": 1
    },
    {
     "cell_type": "markdown",
     "metadata": {},
     "source": [
      "The script below assists the user to know more about the image related data such as driver, resolution, projection system and the origin of the image."
     ]
    },
    {
     "cell_type": "code",
     "collapsed": false,
     "input": [
      "from osgeo import gdal\n",
      "from osgeo.gdalconst import GA_ReadOnly, GDT_Float32\n",
      "import numpy as np\n",
      "\n",
      "# open file and print info about one of the bands\n",
      "dataSource4 = gdal.Open(filename_band4, GA_ReadOnly)\n",
      "\n",
      "print \"\\nInformation about \" + filename_band4 \n",
      "print \"Driver: \", dataSource4.GetDriver().ShortName,\"/\", \\\n",
      "      dataSource4.GetDriver().LongName\n",
      "print \"Size is \",dataSource4.RasterXSize,\"x\",dataSource4.RasterYSize, \\\n",
      "      'x',dataSource4.RasterCount\n",
      "\n",
      "print '\\nProjection is: ', dataSource4.GetProjection()\n",
      "\n",
      "print \"\\nInformation about the location of the image and the pixel size:\"\n",
      "geotransform = dataSource4.GetGeoTransform()\n",
      "if not geotransform is None:\n",
      "    print 'Origin = (',geotransform[0], ',',geotransform[3],')'\n",
      "    print 'Pixel Size = (',geotransform[1], ',',geotransform[5],')'"
     ],
     "language": "python",
     "metadata": {},
     "outputs": [
      {
       "output_type": "stream",
       "stream": "stdout",
       "text": [
        "\n",
        "Information about /home/user/Projects/AssignmentLesson13/data/LC81980242014260LGN00_sr_band4.tif\n",
        "Driver:  GTiff / GeoTIFF\n",
        "Size is  7791 x 7911 x 1\n",
        "\n",
        "Projection is:  PROJCS[\"WGS 84 / UTM zone 31N\",GEOGCS[\"WGS 84\",DATUM[\"WGS_1984\",SPHEROID[\"WGS 84\",6378137,298.257223563,AUTHORITY[\"EPSG\",\"7030\"]],AUTHORITY[\"EPSG\",\"6326\"]],PRIMEM[\"Greenwich\",0],UNIT[\"degree\",0.0174532925199433],AUTHORITY[\"EPSG\",\"4326\"]],PROJECTION[\"Transverse_Mercator\"],PARAMETER[\"latitude_of_origin\",0],PARAMETER[\"central_meridian\",3],PARAMETER[\"scale_factor\",0.9996],PARAMETER[\"false_easting\",500000],PARAMETER[\"false_northing\",0],UNIT[\"metre\",1,AUTHORITY[\"EPSG\",\"9001\"]],AUTHORITY[\"EPSG\",\"32631\"]]\n",
        "\n",
        "Information about the location of the image and the pixel size:\n",
        "Origin = ( 529185.0 , 5847015.0 )\n",
        "Pixel Size = ( 30.0 , -30.0 )\n"
       ]
      }
     ],
     "prompt_number": 2
    },
    {
     "cell_type": "markdown",
     "metadata": {},
     "source": [
      "The script below creates the function to calculated NDWI which takes in two arguments (band4 and band5). We convert the image to arrays in order ot make calculations faster and easier."
     ]
    },
    {
     "cell_type": "code",
     "collapsed": false,
     "input": [
      "# Open and read image with band 5 \n",
      "dataSource5 = gdal.Open(filename_band5, GA_ReadOnly)\n",
      "\n",
      "def calc_ndwi(band4, band5):\n",
      "    # Read data into an array\n",
      "    band4Arr = band4.ReadAsArray(0,0,band4.RasterXSize, band4.RasterYSize)\n",
      "    band5Arr = band5.ReadAsArray(0,0,band5.RasterXSize, band5.RasterYSize)\n",
      "    print type(band4Arr)\n",
      "                                                   \n",
      "    # set the data type\n",
      "    band4Arr=band4Arr.astype(np.float32)\n",
      "    band5Arr=band5Arr.astype(np.float32)\n",
      "\n",
      "    # Derive the NDWI\n",
      "    mask = np.greater(band5Arr+band4Arr,0)\n",
      "\n",
      "    # set np.errstate to avoid warning of invalid values (i.e. NaN values) in the divide \n",
      "    with np.errstate(invalid='ignore'):\n",
      "        ndwi = np.choose(mask,(-99,(band4Arr-band5Arr)/(band5Arr+band4Arr)))\n",
      "    print \"NDWI min and max values\", ndwi.min(), ndwi.max()\n",
      "    # Check the real minimum value\n",
      "    print ndwi[ndwi>-99].min()\n",
      "    print type(ndwi)\n",
      "    return ndwi\n",
      "    \n",
      "ndwi = calc_ndwi(dataSource4, dataSource5)"
     ],
     "language": "python",
     "metadata": {},
     "outputs": [
      {
       "output_type": "stream",
       "stream": "stdout",
       "text": [
        "<type 'numpy.ndarray'>\n",
        "[[-9999.  1520.  4023.  3755.]\n",
        " [-9999.  1485.  3889.  3556.]\n",
        " [-9999.  2526.  3539.  2836.]\n",
        " [-9999.  2659.  3253.  1880.]\n",
        " [-9999.  2696.  3668.  1879.]\n",
        " [-9999.  2592.  3559.  2554.]\n",
        " [-9999.  2548.  2829.  2650.]\n",
        " [-9999.  2388.  2607.  3051.]\n",
        " [-9999.  2535.  2429.  3454.]\n",
        " [-9999.  3491.  2209.  2359.]]"
       ]
      },
      {
       "output_type": "stream",
       "stream": "stdout",
       "text": [
        "\n",
        "NDWI min and max values"
       ]
      },
      {
       "output_type": "stream",
       "stream": "stdout",
       "text": [
        " -99.0 "
       ]
      },
      {
       "output_type": "stream",
       "stream": "stdout",
       "text": [
        "21.3333\n",
        "-2.36481"
       ]
      },
      {
       "output_type": "stream",
       "stream": "stdout",
       "text": [
        "\n",
        "<type 'numpy.ndarray'>\n"
       ]
      }
     ],
     "prompt_number": 29
    },
    {
     "cell_type": "markdown",
     "metadata": {},
     "source": [
      "Here we convert back the calculated array ndwi to an image saved on disk that can later be reprojected and visualised. For immediate visualization the user can use open source geospatial software (such as qgis)."
     ]
    },
    {
     "cell_type": "code",
     "collapsed": false,
     "input": [
      "# Write the result to disk\n",
      "driver = gdal.GetDriverByName('GTiff')\n",
      "outDataSet=driver.Create(outFolder + 'ndwi.tif', dataSource.RasterXSize, dataSource.RasterYSize, 1, GDT_Float32)\n",
      "outBand = outDataSet.GetRasterBand(1)\n",
      "outBand.WriteArray(ndwi,0,0)\n",
      "outBand.SetNoDataValue(-99)\n",
      "\n",
      "# set the projection and extent information of the dataset\n",
      "outDataSet.SetProjection(dataSource.GetProjection())\n",
      "outDataSet.SetGeoTransform(dataSource.GetGeoTransform())\n",
      "\n",
      "# Save the file\n",
      "outBand.FlushCache()\n",
      "outDataSet.FlushCache()"
     ],
     "language": "python",
     "metadata": {},
     "outputs": []
    },
    {
     "cell_type": "markdown",
     "metadata": {},
     "source": [
      "Below the information about the image is extracted using bash command "
     ]
    },
    {
     "cell_type": "code",
     "collapsed": false,
     "input": [
      "!gdalinfo $outFolder/'ndwi.tif'"
     ],
     "language": "python",
     "metadata": {},
     "outputs": [
      {
       "output_type": "stream",
       "stream": "stdout",
       "text": [
        "Driver: GTiff/GeoTIFF\r\n",
        "Files: /home/user/Projects/AssignmentLesson13/output//ndwi.tif\r\n",
        "Size is 7791, 7911\r\n",
        "Coordinate System is:\r\n",
        "PROJCS[\"WGS 84 / UTM zone 31N\",\r\n",
        "    GEOGCS[\"WGS 84\",\r\n",
        "        DATUM[\"WGS_1984\",\r\n",
        "            SPHEROID[\"WGS 84\",6378137,298.257223563,\r\n",
        "                AUTHORITY[\"EPSG\",\"7030\"]],\r\n",
        "            AUTHORITY[\"EPSG\",\"6326\"]],\r\n",
        "        PRIMEM[\"Greenwich\",0],\r\n",
        "        UNIT[\"degree\",0.0174532925199433],\r\n",
        "        AUTHORITY[\"EPSG\",\"4326\"]],\r\n",
        "    PROJECTION[\"Transverse_Mercator\"],\r\n",
        "    PARAMETER[\"latitude_of_origin\",0],\r\n",
        "    PARAMETER[\"central_meridian\",3],\r\n",
        "    PARAMETER[\"scale_factor\",0.9996],\r\n",
        "    PARAMETER[\"false_easting\",500000],\r\n",
        "    PARAMETER[\"false_northing\",0],\r\n",
        "    UNIT[\"metre\",1,\r\n",
        "        AUTHORITY[\"EPSG\",\"9001\"]],\r\n",
        "    AUTHORITY[\"EPSG\",\"32631\"]]\r\n",
        "Origin = (529185.000000000000000,5847015.000000000000000)\r\n",
        "Pixel Size = (30.000000000000000,-30.000000000000000)\r\n",
        "Metadata:\r\n",
        "  AREA_OR_POINT=Area\r\n",
        "Image Structure Metadata:\r\n",
        "  INTERLEAVE=BAND\r\n"
       ]
      },
      {
       "output_type": "stream",
       "stream": "stdout",
       "text": [
        "Corner Coordinates:\r\n",
        "Upper Left  (  529185.000, 5847015.000) (  3d25'57.39\"E, 52d46'19.83\"N)\r\n",
        "Lower Left  (  529185.000, 5609685.000) (  3d24'45.80\"E, 50d38'17.88\"N)\r\n",
        "Upper Right (  762915.000, 5847015.000) (  6d53'32.41\"E, 52d42'32.58\"N)\r\n",
        "Lower Right (  762915.000, 5609685.000) (  6d42'50.08\"E, 50d34'47.26\"N)\r\n",
        "Center      (  646050.000, 5728350.000) (  5d 6'46.27\"E, 51d41'13.53\"N)\r\n",
        "Band 1 Block=7791x1 Type=Float32, ColorInterp=Gray\r\n",
        "  NoData Value=-99\r\n"
       ]
      }
     ],
     "prompt_number": 10
    },
    {
     "cell_type": "markdown",
     "metadata": {},
     "source": [
      "Here the bash shell is used to reproject the image because it is a more straightforward method of reprojecting than in python."
     ]
    },
    {
     "cell_type": "code",
     "collapsed": false,
     "input": [
      "# Reproject the ndwi image via the Shell\n",
      "!gdalwarp -t_srs \"EPSG:4326\" $outFolder/'ndwi.tif' $outFolder/'ndwi_ll.tif'"
     ],
     "language": "python",
     "metadata": {},
     "outputs": []
    },
    {
     "cell_type": "markdown",
     "metadata": {},
     "source": [
      "Here we try to use matplotlib. However, we could not show the plot due to memory issues of the virtual machine."
     ]
    },
    {
     "cell_type": "code",
     "collapsed": false,
     "input": [
      "# Plot the reprojected ndwi image using matplotlib \n",
      "%pylab inline\n",
      "from osgeo import gdal\n",
      "import matplotlib.pyplot as plt\n",
      "outFolder = '/home/user/Projects/AssignmentLesson13/output/'\n",
      "\n",
      "# Open image\n",
      "dsll = gdal.Open(outFolder + 'ndwi_ll.tif')\n",
      "\n",
      "# Read raster data\n",
      "ndwi = dsll.ReadAsArray(0, 0, dsll.RasterXSize, dsll.RasterYSize)\n",
      "\n",
      "# Now plot the raster data using gist_earth palette\n",
      "plt.imshow(ndwi, interpolation='nearest', vmin=0, cmap=plt.cm.gist_earth)\n",
      "plt.show()\n",
      "\n",
      "dsll = None"
     ],
     "language": "python",
     "metadata": {},
     "outputs": []
    }
   ],
   "metadata": {}
  }
 ]
}